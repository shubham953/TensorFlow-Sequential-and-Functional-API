{
  "nbformat": 4,
  "nbformat_minor": 0,
  "metadata": {
    "colab": {
      "provenance": [],
      "authorship_tag": "ABX9TyOPr9H4gBwAiwjlKAtb9Al7",
      "include_colab_link": true
    },
    "kernelspec": {
      "name": "python3",
      "display_name": "Python 3"
    },
    "language_info": {
      "name": "python"
    }
  },
  "cells": [
    {
      "cell_type": "markdown",
      "metadata": {
        "id": "view-in-github",
        "colab_type": "text"
      },
      "source": [
        "<a href=\"https://colab.research.google.com/github/shubham953/TensorFlow-Sequential-and-Functional-API/blob/main/TensorFlow_Sequential_and_Functional_API.ipynb\" target=\"_parent\"><img src=\"https://colab.research.google.com/assets/colab-badge.svg\" alt=\"Open In Colab\"/></a>"
      ]
    },
    {
      "cell_type": "code",
      "execution_count": 1,
      "metadata": {
        "colab": {
          "base_uri": "https://localhost:8080/"
        },
        "id": "jOySlVGA5922",
        "outputId": "2682c9f8-471b-40c1-cea6-5989d306b7f6"
      },
      "outputs": [
        {
          "output_type": "stream",
          "name": "stdout",
          "text": [
            "Downloading...\n",
            "From: https://drive.google.com/uc?id=1dLOPwh01o3k8p_hK633ixhD1ehz6nNWk\n",
            "To: /content/spiral.csv\n",
            "\r  0% 0.00/12.9k [00:00<?, ?B/s]\r100% 12.9k/12.9k [00:00<00:00, 37.5MB/s]\n"
          ]
        }
      ],
      "source": [
        "!gdown 1dLOPwh01o3k8p_hK633ixhD1ehz6nNWk"
      ]
    },
    {
      "cell_type": "code",
      "source": [
        "!ls -lrt"
      ],
      "metadata": {
        "colab": {
          "base_uri": "https://localhost:8080/"
        },
        "id": "B37ZXIq-6BYs",
        "outputId": "935dac62-0339-4a75-d88a-a7d3aab72c57"
      },
      "execution_count": 2,
      "outputs": [
        {
          "output_type": "stream",
          "name": "stdout",
          "text": [
            "total 20\n",
            "drwxr-xr-x 1 root root  4096 Aug 15 13:37 sample_data\n",
            "-rw-r--r-- 1 root root 12867 Aug 17 09:51 spiral.csv\n"
          ]
        }
      ]
    },
    {
      "cell_type": "code",
      "source": [
        "import numpy as np\n",
        "import pandas as pd\n",
        "import matplotlib.pyplot as plt\n",
        "df = pd.read_csv('spiral.csv')"
      ],
      "metadata": {
        "id": "YdLJhRzB6NT3"
      },
      "execution_count": 3,
      "outputs": []
    },
    {
      "cell_type": "code",
      "source": [
        "df"
      ],
      "metadata": {
        "colab": {
          "base_uri": "https://localhost:8080/",
          "height": 424
        },
        "id": "Kionu5fe64Iz",
        "outputId": "d702d373-f62f-410a-93bd-76abbfcb1edf"
      },
      "execution_count": 4,
      "outputs": [
        {
          "output_type": "execute_result",
          "data": {
            "text/plain": [
              "           x1        x2  y\n",
              "0    0.000000  0.000000  0\n",
              "1   -0.000650  0.010080  0\n",
              "2    0.009809  0.017661  0\n",
              "3    0.007487  0.029364  0\n",
              "4   -0.000027  0.040404  0\n",
              "..        ...       ... ..\n",
              "295 -0.829548  0.482363  2\n",
              "296 -0.753207  0.610731  2\n",
              "297 -0.631949  0.748762  2\n",
              "298 -0.581099  0.801389  2\n",
              "299 -0.476268  0.879300  2\n",
              "\n",
              "[300 rows x 3 columns]"
            ],
            "text/html": [
              "\n",
              "\n",
              "  <div id=\"df-52f4fbb1-37fa-458f-82c4-71b700ee5f63\">\n",
              "    <div class=\"colab-df-container\">\n",
              "      <div>\n",
              "<style scoped>\n",
              "    .dataframe tbody tr th:only-of-type {\n",
              "        vertical-align: middle;\n",
              "    }\n",
              "\n",
              "    .dataframe tbody tr th {\n",
              "        vertical-align: top;\n",
              "    }\n",
              "\n",
              "    .dataframe thead th {\n",
              "        text-align: right;\n",
              "    }\n",
              "</style>\n",
              "<table border=\"1\" class=\"dataframe\">\n",
              "  <thead>\n",
              "    <tr style=\"text-align: right;\">\n",
              "      <th></th>\n",
              "      <th>x1</th>\n",
              "      <th>x2</th>\n",
              "      <th>y</th>\n",
              "    </tr>\n",
              "  </thead>\n",
              "  <tbody>\n",
              "    <tr>\n",
              "      <th>0</th>\n",
              "      <td>0.000000</td>\n",
              "      <td>0.000000</td>\n",
              "      <td>0</td>\n",
              "    </tr>\n",
              "    <tr>\n",
              "      <th>1</th>\n",
              "      <td>-0.000650</td>\n",
              "      <td>0.010080</td>\n",
              "      <td>0</td>\n",
              "    </tr>\n",
              "    <tr>\n",
              "      <th>2</th>\n",
              "      <td>0.009809</td>\n",
              "      <td>0.017661</td>\n",
              "      <td>0</td>\n",
              "    </tr>\n",
              "    <tr>\n",
              "      <th>3</th>\n",
              "      <td>0.007487</td>\n",
              "      <td>0.029364</td>\n",
              "      <td>0</td>\n",
              "    </tr>\n",
              "    <tr>\n",
              "      <th>4</th>\n",
              "      <td>-0.000027</td>\n",
              "      <td>0.040404</td>\n",
              "      <td>0</td>\n",
              "    </tr>\n",
              "    <tr>\n",
              "      <th>...</th>\n",
              "      <td>...</td>\n",
              "      <td>...</td>\n",
              "      <td>...</td>\n",
              "    </tr>\n",
              "    <tr>\n",
              "      <th>295</th>\n",
              "      <td>-0.829548</td>\n",
              "      <td>0.482363</td>\n",
              "      <td>2</td>\n",
              "    </tr>\n",
              "    <tr>\n",
              "      <th>296</th>\n",
              "      <td>-0.753207</td>\n",
              "      <td>0.610731</td>\n",
              "      <td>2</td>\n",
              "    </tr>\n",
              "    <tr>\n",
              "      <th>297</th>\n",
              "      <td>-0.631949</td>\n",
              "      <td>0.748762</td>\n",
              "      <td>2</td>\n",
              "    </tr>\n",
              "    <tr>\n",
              "      <th>298</th>\n",
              "      <td>-0.581099</td>\n",
              "      <td>0.801389</td>\n",
              "      <td>2</td>\n",
              "    </tr>\n",
              "    <tr>\n",
              "      <th>299</th>\n",
              "      <td>-0.476268</td>\n",
              "      <td>0.879300</td>\n",
              "      <td>2</td>\n",
              "    </tr>\n",
              "  </tbody>\n",
              "</table>\n",
              "<p>300 rows × 3 columns</p>\n",
              "</div>\n",
              "      <button class=\"colab-df-convert\" onclick=\"convertToInteractive('df-52f4fbb1-37fa-458f-82c4-71b700ee5f63')\"\n",
              "              title=\"Convert this dataframe to an interactive table.\"\n",
              "              style=\"display:none;\">\n",
              "\n",
              "  <svg xmlns=\"http://www.w3.org/2000/svg\" height=\"24px\"viewBox=\"0 0 24 24\"\n",
              "       width=\"24px\">\n",
              "    <path d=\"M0 0h24v24H0V0z\" fill=\"none\"/>\n",
              "    <path d=\"M18.56 5.44l.94 2.06.94-2.06 2.06-.94-2.06-.94-.94-2.06-.94 2.06-2.06.94zm-11 1L8.5 8.5l.94-2.06 2.06-.94-2.06-.94L8.5 2.5l-.94 2.06-2.06.94zm10 10l.94 2.06.94-2.06 2.06-.94-2.06-.94-.94-2.06-.94 2.06-2.06.94z\"/><path d=\"M17.41 7.96l-1.37-1.37c-.4-.4-.92-.59-1.43-.59-.52 0-1.04.2-1.43.59L10.3 9.45l-7.72 7.72c-.78.78-.78 2.05 0 2.83L4 21.41c.39.39.9.59 1.41.59.51 0 1.02-.2 1.41-.59l7.78-7.78 2.81-2.81c.8-.78.8-2.07 0-2.86zM5.41 20L4 18.59l7.72-7.72 1.47 1.35L5.41 20z\"/>\n",
              "  </svg>\n",
              "      </button>\n",
              "\n",
              "\n",
              "\n",
              "    <div id=\"df-2b9834ec-0391-48ec-984d-f5455e15b7dd\">\n",
              "      <button class=\"colab-df-quickchart\" onclick=\"quickchart('df-2b9834ec-0391-48ec-984d-f5455e15b7dd')\"\n",
              "              title=\"Suggest charts.\"\n",
              "              style=\"display:none;\">\n",
              "\n",
              "<svg xmlns=\"http://www.w3.org/2000/svg\" height=\"24px\"viewBox=\"0 0 24 24\"\n",
              "     width=\"24px\">\n",
              "    <g>\n",
              "        <path d=\"M19 3H5c-1.1 0-2 .9-2 2v14c0 1.1.9 2 2 2h14c1.1 0 2-.9 2-2V5c0-1.1-.9-2-2-2zM9 17H7v-7h2v7zm4 0h-2V7h2v10zm4 0h-2v-4h2v4z\"/>\n",
              "    </g>\n",
              "</svg>\n",
              "      </button>\n",
              "    </div>\n",
              "\n",
              "<style>\n",
              "  .colab-df-quickchart {\n",
              "    background-color: #E8F0FE;\n",
              "    border: none;\n",
              "    border-radius: 50%;\n",
              "    cursor: pointer;\n",
              "    display: none;\n",
              "    fill: #1967D2;\n",
              "    height: 32px;\n",
              "    padding: 0 0 0 0;\n",
              "    width: 32px;\n",
              "  }\n",
              "\n",
              "  .colab-df-quickchart:hover {\n",
              "    background-color: #E2EBFA;\n",
              "    box-shadow: 0px 1px 2px rgba(60, 64, 67, 0.3), 0px 1px 3px 1px rgba(60, 64, 67, 0.15);\n",
              "    fill: #174EA6;\n",
              "  }\n",
              "\n",
              "  [theme=dark] .colab-df-quickchart {\n",
              "    background-color: #3B4455;\n",
              "    fill: #D2E3FC;\n",
              "  }\n",
              "\n",
              "  [theme=dark] .colab-df-quickchart:hover {\n",
              "    background-color: #434B5C;\n",
              "    box-shadow: 0px 1px 3px 1px rgba(0, 0, 0, 0.15);\n",
              "    filter: drop-shadow(0px 1px 2px rgba(0, 0, 0, 0.3));\n",
              "    fill: #FFFFFF;\n",
              "  }\n",
              "</style>\n",
              "\n",
              "    <script>\n",
              "      async function quickchart(key) {\n",
              "        const containerElement = document.querySelector('#' + key);\n",
              "        const charts = await google.colab.kernel.invokeFunction(\n",
              "            'suggestCharts', [key], {});\n",
              "      }\n",
              "    </script>\n",
              "\n",
              "\n",
              "      <script>\n",
              "\n",
              "function displayQuickchartButton(domScope) {\n",
              "  let quickchartButtonEl =\n",
              "    domScope.querySelector('#df-2b9834ec-0391-48ec-984d-f5455e15b7dd button.colab-df-quickchart');\n",
              "  quickchartButtonEl.style.display =\n",
              "    google.colab.kernel.accessAllowed ? 'block' : 'none';\n",
              "}\n",
              "\n",
              "        displayQuickchartButton(document);\n",
              "      </script>\n",
              "      <style>\n",
              "    .colab-df-container {\n",
              "      display:flex;\n",
              "      flex-wrap:wrap;\n",
              "      gap: 12px;\n",
              "    }\n",
              "\n",
              "    .colab-df-convert {\n",
              "      background-color: #E8F0FE;\n",
              "      border: none;\n",
              "      border-radius: 50%;\n",
              "      cursor: pointer;\n",
              "      display: none;\n",
              "      fill: #1967D2;\n",
              "      height: 32px;\n",
              "      padding: 0 0 0 0;\n",
              "      width: 32px;\n",
              "    }\n",
              "\n",
              "    .colab-df-convert:hover {\n",
              "      background-color: #E2EBFA;\n",
              "      box-shadow: 0px 1px 2px rgba(60, 64, 67, 0.3), 0px 1px 3px 1px rgba(60, 64, 67, 0.15);\n",
              "      fill: #174EA6;\n",
              "    }\n",
              "\n",
              "    [theme=dark] .colab-df-convert {\n",
              "      background-color: #3B4455;\n",
              "      fill: #D2E3FC;\n",
              "    }\n",
              "\n",
              "    [theme=dark] .colab-df-convert:hover {\n",
              "      background-color: #434B5C;\n",
              "      box-shadow: 0px 1px 3px 1px rgba(0, 0, 0, 0.15);\n",
              "      filter: drop-shadow(0px 1px 2px rgba(0, 0, 0, 0.3));\n",
              "      fill: #FFFFFF;\n",
              "    }\n",
              "  </style>\n",
              "\n",
              "      <script>\n",
              "        const buttonEl =\n",
              "          document.querySelector('#df-52f4fbb1-37fa-458f-82c4-71b700ee5f63 button.colab-df-convert');\n",
              "        buttonEl.style.display =\n",
              "          google.colab.kernel.accessAllowed ? 'block' : 'none';\n",
              "\n",
              "        async function convertToInteractive(key) {\n",
              "          const element = document.querySelector('#df-52f4fbb1-37fa-458f-82c4-71b700ee5f63');\n",
              "          const dataTable =\n",
              "            await google.colab.kernel.invokeFunction('convertToInteractive',\n",
              "                                                     [key], {});\n",
              "          if (!dataTable) return;\n",
              "\n",
              "          const docLinkHtml = 'Like what you see? Visit the ' +\n",
              "            '<a target=\"_blank\" href=https://colab.research.google.com/notebooks/data_table.ipynb>data table notebook</a>'\n",
              "            + ' to learn more about interactive tables.';\n",
              "          element.innerHTML = '';\n",
              "          dataTable['output_type'] = 'display_data';\n",
              "          await google.colab.output.renderOutput(dataTable, element);\n",
              "          const docLink = document.createElement('div');\n",
              "          docLink.innerHTML = docLinkHtml;\n",
              "          element.appendChild(docLink);\n",
              "        }\n",
              "      </script>\n",
              "    </div>\n",
              "  </div>\n"
            ]
          },
          "metadata": {},
          "execution_count": 4
        }
      ]
    },
    {
      "cell_type": "code",
      "source": [
        "plt.scatter(df['x1'],df['x2'], c=df['y'],cmap=plt.cm.Spectral)\n",
        "plt.show()"
      ],
      "metadata": {
        "colab": {
          "base_uri": "https://localhost:8080/",
          "height": 435
        },
        "id": "iEUGq5Vm7A_C",
        "outputId": "e19367b1-6a89-4a7f-945e-05415b7c92c1"
      },
      "execution_count": 10,
      "outputs": [
        {
          "output_type": "display_data",
          "data": {
            "text/plain": [
              "<Figure size 640x480 with 1 Axes>"
            ],
            "image/png": "[encoded data removed]"
          },
          "metadata": {}
        }
      ]
    },
    {
      "cell_type": "code",
      "source": [
        "X = df.iloc[:,:-1]"
      ],
      "metadata": {
        "id": "9TU78q7G7bNc"
      },
      "execution_count": 12,
      "outputs": []
    },
    {
      "cell_type": "code",
      "source": [
        "Y=df.iloc[:,-1]"
      ],
      "metadata": {
        "id": "W44cXk9P7eIY"
      },
      "execution_count": 14,
      "outputs": []
    },
    {
      "cell_type": "markdown",
      "source": [
        "# Tensorflow Sequential API"
      ],
      "metadata": {
        "id": "OhXaTPK9AV7Z"
      }
    },
    {
      "cell_type": "code",
      "source": [
        "import tensorflow as tf\n",
        "from tensorflow import keras\n",
        "from tensorflow.keras import layers\n"
      ],
      "metadata": {
        "id": "Zb9xxb4f8Ppm"
      },
      "execution_count": 15,
      "outputs": []
    },
    {
      "cell_type": "code",
      "source": [
        "model = keras.Sequential()"
      ],
      "metadata": {
        "id": "0fD6VvY88yU_"
      },
      "execution_count": 18,
      "outputs": []
    },
    {
      "cell_type": "code",
      "source": [
        "model.add(keras.Input(shape=(2,)))\n",
        "model.add(keras.layers.Dense(100,activation='relu'))\n",
        "model.add(keras.layers.Dense(3,activation = 'softmax'))"
      ],
      "metadata": {
        "id": "YQ_Iql-485rW"
      },
      "execution_count": 21,
      "outputs": []
    },
    {
      "cell_type": "code",
      "source": [
        "model.summary()"
      ],
      "metadata": {
        "colab": {
          "base_uri": "https://localhost:8080/"
        },
        "id": "UU_yGlwF9pBH",
        "outputId": "f5a4e061-2f54-492d-f772-e7e6cef1ef95"
      },
      "execution_count": 22,
      "outputs": [
        {
          "output_type": "stream",
          "name": "stdout",
          "text": [
            "Model: \"sequential\"\n",
            "_________________________________________________________________\n",
            " Layer (type)                Output Shape              Param #   \n",
            "=================================================================\n",
            " input_2 (InputLayer)        multiple                  0         \n",
            "                                                                 \n",
            " dense_1 (Dense)             (None, 100)               300       \n",
            "                                                                 \n",
            " dense_2 (Dense)             (None, 3)                 303       \n",
            "                                                                 \n",
            "=================================================================\n",
            "Total params: 603\n",
            "Trainable params: 603\n",
            "Non-trainable params: 0\n",
            "_________________________________________________________________\n"
          ]
        }
      ]
    },
    {
      "cell_type": "code",
      "source": [
        "from keras.api._v2.keras import metrics\n",
        "model.compile(optimizer=tf.keras.optimizers.Adam(),loss=keras.losses.CategoricalCrossentropy(),metrics=tf.keras.metrics.binary_accuracy)"
      ],
      "metadata": {
        "id": "mV_-bEX99y75"
      },
      "execution_count": 28,
      "outputs": []
    },
    {
      "cell_type": "code",
      "source": [
        "from tensorflow.keras.utils import to_categorical"
      ],
      "metadata": {
        "id": "nz1hibbC-oaQ"
      },
      "execution_count": 29,
      "outputs": []
    },
    {
      "cell_type": "code",
      "source": [
        "Y_OHE=to_categorical(Y)"
      ],
      "metadata": {
        "id": "jEymZDIb_W2Y"
      },
      "execution_count": 30,
      "outputs": []
    },
    {
      "cell_type": "code",
      "source": [
        "model.fit(X,Y_OHE,epochs=100,batch_size=256)"
      ],
      "metadata": {
        "colab": {
          "base_uri": "https://localhost:8080/"
        },
        "id": "1h7uj9Dn_e7V",
        "outputId": "283103f4-4200-4cbf-9e92-1afafb46f1ff"
      },
      "execution_count": 33,
      "outputs": [
        {
          "output_type": "stream",
          "name": "stdout",
          "text": [
            "Epoch 1/100\n",
            "2/2 [==============================] - 0s 12ms/step - loss: 0.9284 - binary_accuracy: 0.6833\n",
            "Epoch 2/100\n",
            "2/2 [==============================] - 0s 17ms/step - loss: 0.9225 - binary_accuracy: 0.6922\n",
            "Epoch 3/100\n",
            "2/2 [==============================] - 0s 12ms/step - loss: 0.9165 - binary_accuracy: 0.7067\n",
            "Epoch 4/100\n",
            "2/2 [==============================] - 0s 16ms/step - loss: 0.9107 - binary_accuracy: 0.7178\n",
            "Epoch 5/100\n",
            "2/2 [==============================] - 0s 17ms/step - loss: 0.9048 - binary_accuracy: 0.7322\n",
            "Epoch 6/100\n",
            "2/2 [==============================] - 0s 10ms/step - loss: 0.8991 - binary_accuracy: 0.7411\n",
            "Epoch 7/100\n",
            "2/2 [==============================] - 0s 8ms/step - loss: 0.8933 - binary_accuracy: 0.7444\n",
            "Epoch 8/100\n",
            "2/2 [==============================] - 0s 8ms/step - loss: 0.8876 - binary_accuracy: 0.7544\n",
            "Epoch 9/100\n",
            "2/2 [==============================] - 0s 9ms/step - loss: 0.8821 - binary_accuracy: 0.7589\n",
            "Epoch 10/100\n",
            "2/2 [==============================] - 0s 9ms/step - loss: 0.8767 - binary_accuracy: 0.7644\n",
            "Epoch 11/100\n",
            "2/2 [==============================] - 0s 12ms/step - loss: 0.8712 - binary_accuracy: 0.7700\n",
            "Epoch 12/100\n",
            "2/2 [==============================] - 0s 23ms/step - loss: 0.8657 - binary_accuracy: 0.7756\n",
            "Epoch 13/100\n",
            "2/2 [==============================] - 0s 11ms/step - loss: 0.8604 - binary_accuracy: 0.7800\n",
            "Epoch 14/100\n",
            "2/2 [==============================] - 0s 10ms/step - loss: 0.8551 - binary_accuracy: 0.7878\n",
            "Epoch 15/100\n",
            "2/2 [==============================] - 0s 10ms/step - loss: 0.8500 - binary_accuracy: 0.7889\n",
            "Epoch 16/100\n",
            "2/2 [==============================] - 0s 9ms/step - loss: 0.8449 - binary_accuracy: 0.7900\n",
            "Epoch 17/100\n",
            "2/2 [==============================] - 0s 10ms/step - loss: 0.8399 - binary_accuracy: 0.7933\n",
            "Epoch 18/100\n",
            "2/2 [==============================] - 0s 12ms/step - loss: 0.8352 - binary_accuracy: 0.7956\n",
            "Epoch 19/100\n",
            "2/2 [==============================] - 0s 11ms/step - loss: 0.8305 - binary_accuracy: 0.7978\n",
            "Epoch 20/100\n",
            "2/2 [==============================] - 0s 12ms/step - loss: 0.8259 - binary_accuracy: 0.8011\n",
            "Epoch 21/100\n",
            "2/2 [==============================] - 0s 16ms/step - loss: 0.8216 - binary_accuracy: 0.8011\n",
            "Epoch 22/100\n",
            "2/2 [==============================] - 0s 14ms/step - loss: 0.8174 - binary_accuracy: 0.8022\n",
            "Epoch 23/100\n",
            "2/2 [==============================] - 0s 16ms/step - loss: 0.8133 - binary_accuracy: 0.8022\n",
            "Epoch 24/100\n",
            "2/2 [==============================] - 0s 13ms/step - loss: 0.8093 - binary_accuracy: 0.8044\n",
            "Epoch 25/100\n",
            "2/2 [==============================] - 0s 17ms/step - loss: 0.8053 - binary_accuracy: 0.8033\n",
            "Epoch 26/100\n",
            "2/2 [==============================] - 0s 38ms/step - loss: 0.8013 - binary_accuracy: 0.8033\n",
            "Epoch 27/100\n",
            "2/2 [==============================] - 0s 12ms/step - loss: 0.7975 - binary_accuracy: 0.8067\n",
            "Epoch 28/100\n",
            "2/2 [==============================] - 0s 13ms/step - loss: 0.7936 - binary_accuracy: 0.8056\n",
            "Epoch 29/100\n",
            "2/2 [==============================] - 0s 10ms/step - loss: 0.7901 - binary_accuracy: 0.8044\n",
            "Epoch 30/100\n",
            "2/2 [==============================] - 0s 15ms/step - loss: 0.7866 - binary_accuracy: 0.8044\n",
            "Epoch 31/100\n",
            "2/2 [==============================] - 0s 8ms/step - loss: 0.7832 - binary_accuracy: 0.8067\n",
            "Epoch 32/100\n",
            "2/2 [==============================] - 0s 7ms/step - loss: 0.7800 - binary_accuracy: 0.8067\n",
            "Epoch 33/100\n",
            "2/2 [==============================] - 0s 8ms/step - loss: 0.7767 - binary_accuracy: 0.8033\n",
            "Epoch 34/100\n",
            "2/2 [==============================] - 0s 8ms/step - loss: 0.7737 - binary_accuracy: 0.8022\n",
            "Epoch 35/100\n",
            "2/2 [==============================] - 0s 8ms/step - loss: 0.7706 - binary_accuracy: 0.8000\n",
            "Epoch 36/100\n",
            "2/2 [==============================] - 0s 7ms/step - loss: 0.7676 - binary_accuracy: 0.7967\n",
            "Epoch 37/100\n",
            "2/2 [==============================] - 0s 8ms/step - loss: 0.7649 - binary_accuracy: 0.7956\n",
            "Epoch 38/100\n",
            "2/2 [==============================] - 0s 11ms/step - loss: 0.7620 - binary_accuracy: 0.7956\n",
            "Epoch 39/100\n",
            "2/2 [==============================] - 0s 8ms/step - loss: 0.7592 - binary_accuracy: 0.7956\n",
            "Epoch 40/100\n",
            "2/2 [==============================] - 0s 7ms/step - loss: 0.7565 - binary_accuracy: 0.7933\n",
            "Epoch 41/100\n",
            "2/2 [==============================] - 0s 7ms/step - loss: 0.7539 - binary_accuracy: 0.7944\n",
            "Epoch 42/100\n",
            "2/2 [==============================] - 0s 12ms/step - loss: 0.7513 - binary_accuracy: 0.7933\n",
            "Epoch 43/100\n",
            "2/2 [==============================] - 0s 8ms/step - loss: 0.7487 - binary_accuracy: 0.7933\n",
            "Epoch 44/100\n",
            "2/2 [==============================] - 0s 8ms/step - loss: 0.7462 - binary_accuracy: 0.7944\n",
            "Epoch 45/100\n",
            "2/2 [==============================] - 0s 8ms/step - loss: 0.7436 - binary_accuracy: 0.7967\n",
            "Epoch 46/100\n",
            "2/2 [==============================] - 0s 9ms/step - loss: 0.7414 - binary_accuracy: 0.7956\n",
            "Epoch 47/100\n",
            "2/2 [==============================] - 0s 8ms/step - loss: 0.7389 - binary_accuracy: 0.7967\n",
            "Epoch 48/100\n",
            "2/2 [==============================] - 0s 8ms/step - loss: 0.7366 - binary_accuracy: 0.7967\n",
            "Epoch 49/100\n",
            "2/2 [==============================] - 0s 8ms/step - loss: 0.7345 - binary_accuracy: 0.7944\n",
            "Epoch 50/100\n",
            "2/2 [==============================] - 0s 7ms/step - loss: 0.7324 - binary_accuracy: 0.7944\n",
            "Epoch 51/100\n",
            "2/2 [==============================] - 0s 8ms/step - loss: 0.7304 - binary_accuracy: 0.7933\n",
            "Epoch 52/100\n",
            "2/2 [==============================] - 0s 8ms/step - loss: 0.7284 - binary_accuracy: 0.7956\n",
            "Epoch 53/100\n",
            "2/2 [==============================] - 0s 8ms/step - loss: 0.7264 - binary_accuracy: 0.7933\n",
            "Epoch 54/100\n",
            "2/2 [==============================] - 0s 8ms/step - loss: 0.7243 - binary_accuracy: 0.7933\n",
            "Epoch 55/100\n",
            "2/2 [==============================] - 0s 8ms/step - loss: 0.7224 - binary_accuracy: 0.7933\n",
            "Epoch 56/100\n",
            "2/2 [==============================] - 0s 8ms/step - loss: 0.7203 - binary_accuracy: 0.7956\n",
            "Epoch 57/100\n",
            "2/2 [==============================] - 0s 8ms/step - loss: 0.7185 - binary_accuracy: 0.7978\n",
            "Epoch 58/100\n",
            "2/2 [==============================] - 0s 9ms/step - loss: 0.7165 - binary_accuracy: 0.7967\n",
            "Epoch 59/100\n",
            "2/2 [==============================] - 0s 9ms/step - loss: 0.7148 - binary_accuracy: 0.7978\n",
            "Epoch 60/100\n",
            "2/2 [==============================] - 0s 10ms/step - loss: 0.7130 - binary_accuracy: 0.7956\n",
            "Epoch 61/100\n",
            "2/2 [==============================] - 0s 10ms/step - loss: 0.7112 - binary_accuracy: 0.7944\n",
            "Epoch 62/100\n",
            "2/2 [==============================] - 0s 10ms/step - loss: 0.7094 - binary_accuracy: 0.7944\n",
            "Epoch 63/100\n",
            "2/2 [==============================] - 0s 9ms/step - loss: 0.7078 - binary_accuracy: 0.7956\n",
            "Epoch 64/100\n",
            "2/2 [==============================] - 0s 9ms/step - loss: 0.7062 - binary_accuracy: 0.7978\n",
            "Epoch 65/100\n",
            "2/2 [==============================] - 0s 10ms/step - loss: 0.7047 - binary_accuracy: 0.7967\n",
            "Epoch 66/100\n",
            "2/2 [==============================] - 0s 8ms/step - loss: 0.7032 - binary_accuracy: 0.7956\n",
            "Epoch 67/100\n",
            "2/2 [==============================] - 0s 10ms/step - loss: 0.7018 - binary_accuracy: 0.7956\n",
            "Epoch 68/100\n",
            "2/2 [==============================] - 0s 9ms/step - loss: 0.7003 - binary_accuracy: 0.7956\n",
            "Epoch 69/100\n",
            "2/2 [==============================] - 0s 10ms/step - loss: 0.6989 - binary_accuracy: 0.7967\n",
            "Epoch 70/100\n",
            "2/2 [==============================] - 0s 10ms/step - loss: 0.6974 - binary_accuracy: 0.7978\n",
            "Epoch 71/100\n",
            "2/2 [==============================] - 0s 8ms/step - loss: 0.6959 - binary_accuracy: 0.7956\n",
            "Epoch 72/100\n",
            "2/2 [==============================] - 0s 13ms/step - loss: 0.6944 - binary_accuracy: 0.7956\n",
            "Epoch 73/100\n",
            "2/2 [==============================] - 0s 11ms/step - loss: 0.6930 - binary_accuracy: 0.7978\n",
            "Epoch 74/100\n",
            "2/2 [==============================] - 0s 12ms/step - loss: 0.6915 - binary_accuracy: 0.7989\n",
            "Epoch 75/100\n",
            "2/2 [==============================] - 0s 9ms/step - loss: 0.6900 - binary_accuracy: 0.7989\n",
            "Epoch 76/100\n",
            "2/2 [==============================] - 0s 7ms/step - loss: 0.6884 - binary_accuracy: 0.7967\n",
            "Epoch 77/100\n",
            "2/2 [==============================] - 0s 7ms/step - loss: 0.6868 - binary_accuracy: 0.7978\n",
            "Epoch 78/100\n",
            "2/2 [==============================] - 0s 9ms/step - loss: 0.6852 - binary_accuracy: 0.8000\n",
            "Epoch 79/100\n",
            "2/2 [==============================] - 0s 7ms/step - loss: 0.6836 - binary_accuracy: 0.7978\n",
            "Epoch 80/100\n",
            "2/2 [==============================] - 0s 7ms/step - loss: 0.6821 - binary_accuracy: 0.8000\n",
            "Epoch 81/100\n",
            "2/2 [==============================] - 0s 9ms/step - loss: 0.6808 - binary_accuracy: 0.7978\n",
            "Epoch 82/100\n",
            "2/2 [==============================] - 0s 9ms/step - loss: 0.6794 - binary_accuracy: 0.7967\n",
            "Epoch 83/100\n",
            "2/2 [==============================] - 0s 10ms/step - loss: 0.6785 - binary_accuracy: 0.7956\n",
            "Epoch 84/100\n",
            "2/2 [==============================] - 0s 11ms/step - loss: 0.6773 - binary_accuracy: 0.7933\n",
            "Epoch 85/100\n",
            "2/2 [==============================] - 0s 10ms/step - loss: 0.6760 - binary_accuracy: 0.7956\n",
            "Epoch 86/100\n",
            "2/2 [==============================] - 0s 9ms/step - loss: 0.6746 - binary_accuracy: 0.7978\n",
            "Epoch 87/100\n",
            "2/2 [==============================] - 0s 9ms/step - loss: 0.6731 - binary_accuracy: 0.7989\n",
            "Epoch 88/100\n",
            "2/2 [==============================] - 0s 9ms/step - loss: 0.6717 - binary_accuracy: 0.7989\n",
            "Epoch 89/100\n",
            "2/2 [==============================] - 0s 9ms/step - loss: 0.6703 - binary_accuracy: 0.7989\n",
            "Epoch 90/100\n",
            "2/2 [==============================] - 0s 14ms/step - loss: 0.6689 - binary_accuracy: 0.8011\n",
            "Epoch 91/100\n",
            "2/2 [==============================] - 0s 12ms/step - loss: 0.6674 - binary_accuracy: 0.8011\n",
            "Epoch 92/100\n",
            "2/2 [==============================] - 0s 8ms/step - loss: 0.6661 - binary_accuracy: 0.8022\n",
            "Epoch 93/100\n",
            "2/2 [==============================] - 0s 9ms/step - loss: 0.6648 - binary_accuracy: 0.8033\n",
            "Epoch 94/100\n",
            "2/2 [==============================] - 0s 9ms/step - loss: 0.6635 - binary_accuracy: 0.8056\n",
            "Epoch 95/100\n",
            "2/2 [==============================] - 0s 9ms/step - loss: 0.6621 - binary_accuracy: 0.8056\n",
            "Epoch 96/100\n",
            "2/2 [==============================] - 0s 8ms/step - loss: 0.6607 - binary_accuracy: 0.8067\n",
            "Epoch 97/100\n",
            "2/2 [==============================] - 0s 8ms/step - loss: 0.6596 - binary_accuracy: 0.8078\n",
            "Epoch 98/100\n",
            "2/2 [==============================] - 0s 9ms/step - loss: 0.6582 - binary_accuracy: 0.8100\n",
            "Epoch 99/100\n",
            "2/2 [==============================] - 0s 10ms/step - loss: 0.6568 - binary_accuracy: 0.8100\n",
            "Epoch 100/100\n",
            "2/2 [==============================] - 0s 7ms/step - loss: 0.6557 - binary_accuracy: 0.8122\n"
          ]
        },
        {
          "output_type": "execute_result",
          "data": {
            "text/plain": [
              "<keras.callbacks.History at 0x7b6da32fe710>"
            ]
          },
          "metadata": {},
          "execution_count": 33
        }
      ]
    },
    {
      "cell_type": "code",
      "source": [],
      "metadata": {
        "id": "PRp1kmL-AgrS"
      },
      "execution_count": null,
      "outputs": []
    },
    {
      "cell_type": "markdown",
      "source": [
        "# TensorFlow Functional API"
      ],
      "metadata": {
        "id": "uwnwCtKWAiW-"
      }
    },
    {
      "cell_type": "code",
      "source": [
        "Inputs = keras.Input(shape=(2,))"
      ],
      "metadata": {
        "id": "vbQWugVm_x1P"
      },
      "execution_count": 49,
      "outputs": []
    },
    {
      "cell_type": "code",
      "source": [
        "x=keras.layers.Dense(100,activation='relu')(Inputs)"
      ],
      "metadata": {
        "id": "Dd_68sBtA6ZA"
      },
      "execution_count": 54,
      "outputs": []
    },
    {
      "cell_type": "code",
      "source": [
        "outputs=keras.layers.Dense(3,activation = 'softmax')(x)"
      ],
      "metadata": {
        "id": "E6fH6RPoBI1n"
      },
      "execution_count": 55,
      "outputs": []
    },
    {
      "cell_type": "code",
      "source": [
        "model = keras.Model(inputs=Inputs, outputs=outputs, name=\"simple_model\")"
      ],
      "metadata": {
        "id": "yppqYrB0BaWr"
      },
      "execution_count": 56,
      "outputs": []
    },
    {
      "cell_type": "code",
      "source": [
        "model.summary()"
      ],
      "metadata": {
        "colab": {
          "base_uri": "https://localhost:8080/"
        },
        "id": "wsw-zfBqBylB",
        "outputId": "bd1821fb-0b36-4e24-8072-f1b7d4cdad51"
      },
      "execution_count": 57,
      "outputs": [
        {
          "output_type": "stream",
          "name": "stdout",
          "text": [
            "Model: \"simple_model\"\n",
            "_________________________________________________________________\n",
            " Layer (type)                Output Shape              Param #   \n",
            "=================================================================\n",
            " input_5 (InputLayer)        [(None, 2)]               0         \n",
            "                                                                 \n",
            " dense_11 (Dense)            (None, 100)               300       \n",
            "                                                                 \n",
            " dense_12 (Dense)            (None, 3)                 303       \n",
            "                                                                 \n",
            "=================================================================\n",
            "Total params: 603\n",
            "Trainable params: 603\n",
            "Non-trainable params: 0\n",
            "_________________________________________________________________\n"
          ]
        }
      ]
    },
    {
      "cell_type": "code",
      "source": [
        "from keras.metrics.accuracy_metrics import BinaryAccuracy\n",
        "model.compile(optimizer=tf.keras.optimizers.Adam(),loss=tf.keras.losses.CategoricalCrossentropy(),metrics=tf.keras.metrics.BinaryAccuracy())\n",
        "model.fit(X,Y_OHE,epochs=100,batch_size=258)"
      ],
      "metadata": {
        "colab": {
          "base_uri": "https://localhost:8080/"
        },
        "id": "VsMaz-3sDH9V",
        "outputId": "3e748064-c4ca-42c9-954e-39de629fdaa4"
      },
      "execution_count": 62,
      "outputs": [
        {
          "output_type": "stream",
          "name": "stdout",
          "text": [
            "Epoch 1/100\n",
            "2/2 [==============================] - 1s 9ms/step - loss: 1.1188 - binary_accuracy: 0.6667\n",
            "Epoch 2/100\n",
            "2/2 [==============================] - 0s 8ms/step - loss: 1.1092 - binary_accuracy: 0.6667\n",
            "Epoch 3/100\n",
            "2/2 [==============================] - 0s 8ms/step - loss: 1.0998 - binary_accuracy: 0.6667\n",
            "Epoch 4/100\n",
            "2/2 [==============================] - 0s 8ms/step - loss: 1.0908 - binary_accuracy: 0.6667\n",
            "Epoch 5/100\n",
            "2/2 [==============================] - 0s 15ms/step - loss: 1.0820 - binary_accuracy: 0.6667\n",
            "Epoch 6/100\n",
            "2/2 [==============================] - 0s 8ms/step - loss: 1.0734 - binary_accuracy: 0.6667\n",
            "Epoch 7/100\n",
            "2/2 [==============================] - 0s 7ms/step - loss: 1.0648 - binary_accuracy: 0.6667\n",
            "Epoch 8/100\n",
            "2/2 [==============================] - 0s 8ms/step - loss: 1.0563 - binary_accuracy: 0.6667\n",
            "Epoch 9/100\n",
            "2/2 [==============================] - 0s 12ms/step - loss: 1.0480 - binary_accuracy: 0.6667\n",
            "Epoch 10/100\n",
            "2/2 [==============================] - 0s 7ms/step - loss: 1.0399 - binary_accuracy: 0.6667\n",
            "Epoch 11/100\n",
            "2/2 [==============================] - 0s 7ms/step - loss: 1.0317 - binary_accuracy: 0.6667\n",
            "Epoch 12/100\n",
            "2/2 [==============================] - 0s 11ms/step - loss: 1.0237 - binary_accuracy: 0.6667\n",
            "Epoch 13/100\n",
            "2/2 [==============================] - 0s 9ms/step - loss: 1.0160 - binary_accuracy: 0.6667\n",
            "Epoch 14/100\n",
            "2/2 [==============================] - 0s 13ms/step - loss: 1.0083 - binary_accuracy: 0.6667\n",
            "Epoch 15/100\n",
            "2/2 [==============================] - 0s 7ms/step - loss: 1.0007 - binary_accuracy: 0.6667\n",
            "Epoch 16/100\n",
            "2/2 [==============================] - 0s 9ms/step - loss: 0.9932 - binary_accuracy: 0.6689\n",
            "Epoch 17/100\n",
            "2/2 [==============================] - 0s 7ms/step - loss: 0.9860 - binary_accuracy: 0.6722\n",
            "Epoch 18/100\n",
            "2/2 [==============================] - 0s 9ms/step - loss: 0.9788 - binary_accuracy: 0.6789\n",
            "Epoch 19/100\n",
            "2/2 [==============================] - 0s 7ms/step - loss: 0.9717 - binary_accuracy: 0.6844\n",
            "Epoch 20/100\n",
            "2/2 [==============================] - 0s 10ms/step - loss: 0.9648 - binary_accuracy: 0.6878\n",
            "Epoch 21/100\n",
            "2/2 [==============================] - 0s 9ms/step - loss: 0.9579 - binary_accuracy: 0.6900\n",
            "Epoch 22/100\n",
            "2/2 [==============================] - 0s 9ms/step - loss: 0.9510 - binary_accuracy: 0.6956\n",
            "Epoch 23/100\n",
            "2/2 [==============================] - 0s 9ms/step - loss: 0.9443 - binary_accuracy: 0.6967\n",
            "Epoch 24/100\n",
            "2/2 [==============================] - 0s 9ms/step - loss: 0.9376 - binary_accuracy: 0.6989\n",
            "Epoch 25/100\n",
            "2/2 [==============================] - 0s 8ms/step - loss: 0.9312 - binary_accuracy: 0.7000\n",
            "Epoch 26/100\n",
            "2/2 [==============================] - 0s 8ms/step - loss: 0.9246 - binary_accuracy: 0.7022\n",
            "Epoch 27/100\n",
            "2/2 [==============================] - 0s 9ms/step - loss: 0.9183 - binary_accuracy: 0.7033\n",
            "Epoch 28/100\n",
            "2/2 [==============================] - 0s 8ms/step - loss: 0.9119 - binary_accuracy: 0.7056\n",
            "Epoch 29/100\n",
            "2/2 [==============================] - 0s 8ms/step - loss: 0.9056 - binary_accuracy: 0.7067\n",
            "Epoch 30/100\n",
            "2/2 [==============================] - 0s 7ms/step - loss: 0.8994 - binary_accuracy: 0.7111\n",
            "Epoch 31/100\n",
            "2/2 [==============================] - 0s 9ms/step - loss: 0.8934 - binary_accuracy: 0.7200\n",
            "Epoch 32/100\n",
            "2/2 [==============================] - 0s 9ms/step - loss: 0.8876 - binary_accuracy: 0.7311\n",
            "Epoch 33/100\n",
            "2/2 [==============================] - 0s 10ms/step - loss: 0.8816 - binary_accuracy: 0.7378\n",
            "Epoch 34/100\n",
            "2/2 [==============================] - 0s 9ms/step - loss: 0.8761 - binary_accuracy: 0.7422\n",
            "Epoch 35/100\n",
            "2/2 [==============================] - 0s 10ms/step - loss: 0.8704 - binary_accuracy: 0.7478\n",
            "Epoch 36/100\n",
            "2/2 [==============================] - 0s 10ms/step - loss: 0.8650 - binary_accuracy: 0.7544\n",
            "Epoch 37/100\n",
            "2/2 [==============================] - 0s 8ms/step - loss: 0.8596 - binary_accuracy: 0.7578\n",
            "Epoch 38/100\n",
            "2/2 [==============================] - 0s 9ms/step - loss: 0.8545 - binary_accuracy: 0.7611\n",
            "Epoch 39/100\n",
            "2/2 [==============================] - 0s 10ms/step - loss: 0.8493 - binary_accuracy: 0.7667\n",
            "Epoch 40/100\n",
            "2/2 [==============================] - 0s 10ms/step - loss: 0.8443 - binary_accuracy: 0.7711\n",
            "Epoch 41/100\n",
            "2/2 [==============================] - 0s 9ms/step - loss: 0.8395 - binary_accuracy: 0.7744\n",
            "Epoch 42/100\n",
            "2/2 [==============================] - 0s 11ms/step - loss: 0.8348 - binary_accuracy: 0.7789\n",
            "Epoch 43/100\n",
            "2/2 [==============================] - 0s 9ms/step - loss: 0.8299 - binary_accuracy: 0.7833\n",
            "Epoch 44/100\n",
            "2/2 [==============================] - 0s 10ms/step - loss: 0.8254 - binary_accuracy: 0.7811\n",
            "Epoch 45/100\n",
            "2/2 [==============================] - 0s 7ms/step - loss: 0.8209 - binary_accuracy: 0.7822\n",
            "Epoch 46/100\n",
            "2/2 [==============================] - 0s 9ms/step - loss: 0.8164 - binary_accuracy: 0.7867\n",
            "Epoch 47/100\n",
            "2/2 [==============================] - 0s 10ms/step - loss: 0.8121 - binary_accuracy: 0.7900\n",
            "Epoch 48/100\n",
            "2/2 [==============================] - 0s 11ms/step - loss: 0.8078 - binary_accuracy: 0.7933\n",
            "Epoch 49/100\n",
            "2/2 [==============================] - 0s 7ms/step - loss: 0.8037 - binary_accuracy: 0.7944\n",
            "Epoch 50/100\n",
            "2/2 [==============================] - 0s 10ms/step - loss: 0.7997 - binary_accuracy: 0.7944\n",
            "Epoch 51/100\n",
            "2/2 [==============================] - 0s 8ms/step - loss: 0.7955 - binary_accuracy: 0.7989\n",
            "Epoch 52/100\n",
            "2/2 [==============================] - 0s 7ms/step - loss: 0.7919 - binary_accuracy: 0.8000\n",
            "Epoch 53/100\n",
            "2/2 [==============================] - 0s 7ms/step - loss: 0.7880 - binary_accuracy: 0.8000\n",
            "Epoch 54/100\n",
            "2/2 [==============================] - 0s 8ms/step - loss: 0.7846 - binary_accuracy: 0.8000\n",
            "Epoch 55/100\n",
            "2/2 [==============================] - 0s 8ms/step - loss: 0.7809 - binary_accuracy: 0.7989\n",
            "Epoch 56/100\n",
            "2/2 [==============================] - 0s 8ms/step - loss: 0.7776 - binary_accuracy: 0.7989\n",
            "Epoch 57/100\n",
            "2/2 [==============================] - 0s 8ms/step - loss: 0.7742 - binary_accuracy: 0.7978\n",
            "Epoch 58/100\n",
            "2/2 [==============================] - 0s 8ms/step - loss: 0.7709 - binary_accuracy: 0.7989\n",
            "Epoch 59/100\n",
            "2/2 [==============================] - 0s 14ms/step - loss: 0.7677 - binary_accuracy: 0.8033\n",
            "Epoch 60/100\n",
            "2/2 [==============================] - 0s 8ms/step - loss: 0.7645 - binary_accuracy: 0.8044\n",
            "Epoch 61/100\n",
            "2/2 [==============================] - 0s 8ms/step - loss: 0.7614 - binary_accuracy: 0.8044\n",
            "Epoch 62/100\n",
            "2/2 [==============================] - 0s 8ms/step - loss: 0.7584 - binary_accuracy: 0.8056\n",
            "Epoch 63/100\n",
            "2/2 [==============================] - 0s 8ms/step - loss: 0.7555 - binary_accuracy: 0.8044\n",
            "Epoch 64/100\n",
            "2/2 [==============================] - 0s 9ms/step - loss: 0.7525 - binary_accuracy: 0.8033\n",
            "Epoch 65/100\n",
            "2/2 [==============================] - 0s 9ms/step - loss: 0.7496 - binary_accuracy: 0.8044\n",
            "Epoch 66/100\n",
            "2/2 [==============================] - 0s 8ms/step - loss: 0.7467 - binary_accuracy: 0.8056\n",
            "Epoch 67/100\n",
            "2/2 [==============================] - 0s 8ms/step - loss: 0.7441 - binary_accuracy: 0.8056\n",
            "Epoch 68/100\n",
            "2/2 [==============================] - 0s 8ms/step - loss: 0.7413 - binary_accuracy: 0.8033\n",
            "Epoch 69/100\n",
            "2/2 [==============================] - 0s 9ms/step - loss: 0.7389 - binary_accuracy: 0.8033\n",
            "Epoch 70/100\n",
            "2/2 [==============================] - 0s 8ms/step - loss: 0.7364 - binary_accuracy: 0.8011\n",
            "Epoch 71/100\n",
            "2/2 [==============================] - 0s 7ms/step - loss: 0.7340 - binary_accuracy: 0.8044\n",
            "Epoch 72/100\n",
            "2/2 [==============================] - 0s 8ms/step - loss: 0.7315 - binary_accuracy: 0.8056\n",
            "Epoch 73/100\n",
            "2/2 [==============================] - 0s 10ms/step - loss: 0.7292 - binary_accuracy: 0.8078\n",
            "Epoch 74/100\n",
            "2/2 [==============================] - 0s 8ms/step - loss: 0.7268 - binary_accuracy: 0.8067\n",
            "Epoch 75/100\n",
            "2/2 [==============================] - 0s 9ms/step - loss: 0.7246 - binary_accuracy: 0.8067\n",
            "Epoch 76/100\n",
            "2/2 [==============================] - 0s 9ms/step - loss: 0.7222 - binary_accuracy: 0.8067\n",
            "Epoch 77/100\n",
            "2/2 [==============================] - 0s 8ms/step - loss: 0.7201 - binary_accuracy: 0.8067\n",
            "Epoch 78/100\n",
            "2/2 [==============================] - 0s 9ms/step - loss: 0.7179 - binary_accuracy: 0.8044\n",
            "Epoch 79/100\n",
            "2/2 [==============================] - 0s 8ms/step - loss: 0.7157 - binary_accuracy: 0.8022\n",
            "Epoch 80/100\n",
            "2/2 [==============================] - 0s 9ms/step - loss: 0.7137 - binary_accuracy: 0.8000\n",
            "Epoch 81/100\n",
            "2/2 [==============================] - 0s 9ms/step - loss: 0.7117 - binary_accuracy: 0.7978\n",
            "Epoch 82/100\n",
            "2/2 [==============================] - 0s 8ms/step - loss: 0.7096 - binary_accuracy: 0.8011\n",
            "Epoch 83/100\n",
            "2/2 [==============================] - 0s 8ms/step - loss: 0.7076 - binary_accuracy: 0.8022\n",
            "Epoch 84/100\n",
            "2/2 [==============================] - 0s 9ms/step - loss: 0.7058 - binary_accuracy: 0.8033\n",
            "Epoch 85/100\n",
            "2/2 [==============================] - 0s 8ms/step - loss: 0.7038 - binary_accuracy: 0.8067\n",
            "Epoch 86/100\n",
            "2/2 [==============================] - 0s 9ms/step - loss: 0.7019 - binary_accuracy: 0.8078\n",
            "Epoch 87/100\n",
            "2/2 [==============================] - 0s 8ms/step - loss: 0.7001 - binary_accuracy: 0.8067\n",
            "Epoch 88/100\n",
            "2/2 [==============================] - 0s 9ms/step - loss: 0.6985 - binary_accuracy: 0.8056\n",
            "Epoch 89/100\n",
            "2/2 [==============================] - 0s 10ms/step - loss: 0.6967 - binary_accuracy: 0.8056\n",
            "Epoch 90/100\n",
            "2/2 [==============================] - 0s 8ms/step - loss: 0.6950 - binary_accuracy: 0.8056\n",
            "Epoch 91/100\n",
            "2/2 [==============================] - 0s 8ms/step - loss: 0.6931 - binary_accuracy: 0.8067\n",
            "Epoch 92/100\n",
            "2/2 [==============================] - 0s 8ms/step - loss: 0.6916 - binary_accuracy: 0.8067\n",
            "Epoch 93/100\n",
            "2/2 [==============================] - 0s 8ms/step - loss: 0.6899 - binary_accuracy: 0.8033\n",
            "Epoch 94/100\n",
            "2/2 [==============================] - 0s 9ms/step - loss: 0.6882 - binary_accuracy: 0.8056\n",
            "Epoch 95/100\n",
            "2/2 [==============================] - 0s 9ms/step - loss: 0.6866 - binary_accuracy: 0.8056\n",
            "Epoch 96/100\n",
            "2/2 [==============================] - 0s 9ms/step - loss: 0.6849 - binary_accuracy: 0.8078\n",
            "Epoch 97/100\n",
            "2/2 [==============================] - 0s 9ms/step - loss: 0.6833 - binary_accuracy: 0.8078\n",
            "Epoch 98/100\n",
            "2/2 [==============================] - 0s 10ms/step - loss: 0.6818 - binary_accuracy: 0.8078\n",
            "Epoch 99/100\n",
            "2/2 [==============================] - 0s 10ms/step - loss: 0.6802 - binary_accuracy: 0.8067\n",
            "Epoch 100/100\n",
            "2/2 [==============================] - 0s 12ms/step - loss: 0.6787 - binary_accuracy: 0.8067\n"
          ]
        },
        {
          "output_type": "execute_result",
          "data": {
            "text/plain": [
              "<keras.callbacks.History at 0x7b6db0740610>"
            ]
          },
          "metadata": {},
          "execution_count": 62
        }
      ]
    },
    {
      "cell_type": "code",
      "source": [
        "model.summary()"
      ],
      "metadata": {
        "colab": {
          "base_uri": "https://localhost:8080/"
        },
        "id": "ZjDciJe6D3Yl",
        "outputId": "49dac9d9-9a34-404d-d7cb-4e7e68c4d484"
      },
      "execution_count": 63,
      "outputs": [
        {
          "output_type": "stream",
          "name": "stdout",
          "text": [
            "Model: \"simple_model\"\n",
            "_________________________________________________________________\n",
            " Layer (type)                Output Shape              Param #   \n",
            "=================================================================\n",
            " input_5 (InputLayer)        [(None, 2)]               0         \n",
            "                                                                 \n",
            " dense_11 (Dense)            (None, 100)               300       \n",
            "                                                                 \n",
            " dense_12 (Dense)            (None, 3)                 303       \n",
            "                                                                 \n",
            "=================================================================\n",
            "Total params: 603\n",
            "Trainable params: 603\n",
            "Non-trainable params: 0\n",
            "_________________________________________________________________\n"
          ]
        }
      ]
    },
    {
      "cell_type": "code",
      "source": [],
      "metadata": {
        "id": "S2KpYDS9EnhL"
      },
      "execution_count": null,
      "outputs": []
    }
  ]
}